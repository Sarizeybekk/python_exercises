{
 "cells": [
  {
   "cell_type": "markdown",
   "id": "5c39e8dd",
   "metadata": {},
   "source": [
    "# Arkadaş Sayı"
   ]
  },
  {
   "cell_type": "markdown",
   "id": "07e690e5",
   "metadata": {},
   "source": [
    "\n",
    "Kullanıcı tarafından girilen iki sayının arkadaş olup olmadığını tespit eden fonksiyon yazdırılabilir\n",
    "\n",
    "İki sayı birbirinin kendisi hariç pozitif bölenleri toplamına eşitse bu sayılara arkadaş sayılar denir. En küçük arkadaş sayı çifti 200 ve 284’tür. Bu iki sayı arkadaş sayıdır çünkü 220’nin kendisi hariç pozitif bölenlerinin toplamı 284’e, 284’ün kendisi hariç pozitif bölenlerinin toplamı 220’ye eşittir.\n",
    "\n",
    "220’nin kendisi hariç pozitif bölenlerinin toplamı : 1 + 2 + 4 + 5 + 10 + 11 + 20 + 22 + 44 + 55 + 110 = 284\n",
    "\n",
    "284’ün kendisi hariç pozitif bölenlerinin toplamı : 1 + 2 + 4 + 71 + 142 = 220\n",
    "\n",
    "Kullanıcının girdiği iki sayı arkadaş ise fonksiyon true değer döner, arkadaş değilse false"
   ]
  },
  {
   "cell_type": "code",
   "execution_count": 1,
   "id": "2059eb94",
   "metadata": {},
   "outputs": [
    {
     "name": "stdout",
     "output_type": "stream",
     "text": [
      "ilk sayiyi giriniz:220\n",
      "ikinci sayiyi giriniz:284\n"
     ]
    },
    {
     "data": {
      "text/plain": [
       "True"
      ]
     },
     "execution_count": 1,
     "metadata": {},
     "output_type": "execute_result"
    }
   ],
   "source": [
    "sayi1=int(input(\"ilk sayiyi giriniz:\"))\n",
    "sayi2=int(input(\"ikinci sayiyi giriniz:\"))\n",
    "def ArkadasSayiBul(sayi1,sayi2):\n",
    "    tambölen1=0\n",
    "    tambölen2=0\n",
    "    for i in range(1,sayi1):\n",
    "        if sayi1%i==0:\n",
    "            tambölen1=tambölen1+i\n",
    "    for i in range(1,sayi2):\n",
    "        if sayi2%i==0:\n",
    "            tambölen2=tambölen2+i   \n",
    "    if tambölen1==sayi2 and tambölen2==sayi1:\n",
    "        return True;\n",
    "    else:\n",
    "        return False;\n",
    "ArkadasSayiBul(sayi1,sayi2)    "
   ]
  },
  {
   "cell_type": "code",
   "execution_count": null,
   "id": "be9a1bf8",
   "metadata": {},
   "outputs": [],
   "source": []
  }
 ],
 "metadata": {
  "kernelspec": {
   "display_name": "Python 3 (ipykernel)",
   "language": "python",
   "name": "python3"
  },
  "language_info": {
   "codemirror_mode": {
    "name": "ipython",
    "version": 3
   },
   "file_extension": ".py",
   "mimetype": "text/x-python",
   "name": "python",
   "nbconvert_exporter": "python",
   "pygments_lexer": "ipython3",
   "version": "3.9.7"
  }
 },
 "nbformat": 4,
 "nbformat_minor": 5
}
