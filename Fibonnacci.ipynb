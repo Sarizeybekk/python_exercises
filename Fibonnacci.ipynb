{
 "cells": [
  {
   "cell_type": "markdown",
   "id": "5a32a282",
   "metadata": {},
   "source": [
    "# Fibonnacci serisi\n",
    "1-0'dan başlayıp istediğimiz sayıya kadar giden fibonacci serisi oluşturulabilir. Bu işlem için bir fonksiyon yazılabilir ve başlangıç, bitiş olmak üzere iki parametre alabilir. Varsayılan ilk parametre 0 kabul edilebilir.\n"
   ]
  },
  {
   "cell_type": "markdown",
   "id": "c66437c4",
   "metadata": {},
   "source": [
    "Fibonnacci serisi: 0, 1, 1, 2, 3, 5, 8, 13, 21, 34, 55, 89, 144, 233, 377, 610, 987, 1597, 2584, 4181, 6765…"
   ]
  },
  {
   "cell_type": "markdown",
   "id": "8abeea73",
   "metadata": {},
   "source": [
    "# CÖZÜM_1"
   ]
  },
  {
   "cell_type": "code",
   "execution_count": 1,
   "id": "566edf21",
   "metadata": {},
   "outputs": [
    {
     "name": "stdout",
     "output_type": "stream",
     "text": [
      "0\n",
      "1\n",
      "1\n",
      "2\n",
      "3\n",
      "5\n",
      "8\n",
      "13\n",
      "21\n",
      "34\n",
      "55\n",
      "89\n",
      "144\n",
      "233\n",
      "377\n"
     ]
    }
   ],
   "source": [
    "def fibo(n):\n",
    "    a=0\n",
    "    b=1\n",
    "    print(a)\n",
    "    print(b)\n",
    "    for i in range(2,n):\n",
    "        c=a+b\n",
    "        a=b\n",
    "        b=c\n",
    "        print(c)\n",
    "fibo(15)"
   ]
  },
  {
   "cell_type": "markdown",
   "id": "1e747313",
   "metadata": {},
   "source": [
    "# cözüm_2\n"
   ]
  },
  {
   "cell_type": "code",
   "execution_count": 2,
   "id": "d651384f",
   "metadata": {},
   "outputs": [
    {
     "name": "stdout",
     "output_type": "stream",
     "text": [
      "dizinin sonlanmasını istediginiz sayiyi giriniz:50\n",
      "fibonacci dizisi:\n",
      "0\n",
      "1\n",
      "1\n",
      "2\n",
      "3\n",
      "5\n",
      "8\n",
      "13\n",
      "21\n",
      "34\n"
     ]
    }
   ],
   "source": [
    "bitis_degeri=int(input(\"dizinin sonlanmasını istediginiz sayiyi giriniz:\"))\n",
    "def fibo(bitis_degeri):\n",
    "    sayi_bir=0\n",
    "    sayi_iki=1\n",
    "    if(bitis_degeri<0):\n",
    "        print(\"negatif sayi girilemez\")\n",
    "    else:\n",
    "        print(\"fibonacci dizisi:\")\n",
    "        while(sayi_bir<=bitis_degeri):\n",
    "            print(sayi_bir)\n",
    "            sayi_uc=sayi_bir+sayi_iki\n",
    "            sayi_bir=sayi_iki\n",
    "            sayi_iki=sayi_uc\n",
    "fibo(bitis_degeri)            "
   ]
  },
  {
   "cell_type": "code",
   "execution_count": null,
   "id": "f251c338",
   "metadata": {},
   "outputs": [],
   "source": []
  }
 ],
 "metadata": {
  "kernelspec": {
   "display_name": "Python 3 (ipykernel)",
   "language": "python",
   "name": "python3"
  },
  "language_info": {
   "codemirror_mode": {
    "name": "ipython",
    "version": 3
   },
   "file_extension": ".py",
   "mimetype": "text/x-python",
   "name": "python",
   "nbconvert_exporter": "python",
   "pygments_lexer": "ipython3",
   "version": "3.9.7"
  }
 },
 "nbformat": 4,
 "nbformat_minor": 5
}
